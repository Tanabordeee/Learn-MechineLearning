{
 "cells": [
  {
   "cell_type": "code",
   "execution_count": 1,
   "id": "5ca083db",
   "metadata": {},
   "outputs": [],
   "source": [
    "import pandas as pd\n",
    "df = pd.read_excel(\"dataupdate.xlsx\" , sheet_name=\"weather\")"
   ]
  },
  {
   "cell_type": "code",
   "execution_count": 2,
   "id": "0aed2e7a",
   "metadata": {},
   "outputs": [
    {
     "data": {
      "text/html": [
       "<div>\n",
       "<style scoped>\n",
       "    .dataframe tbody tr th:only-of-type {\n",
       "        vertical-align: middle;\n",
       "    }\n",
       "\n",
       "    .dataframe tbody tr th {\n",
       "        vertical-align: top;\n",
       "    }\n",
       "\n",
       "    .dataframe thead th {\n",
       "        text-align: right;\n",
       "    }\n",
       "</style>\n",
       "<table border=\"1\" class=\"dataframe\">\n",
       "  <thead>\n",
       "    <tr style=\"text-align: right;\">\n",
       "      <th></th>\n",
       "      <th>Day</th>\n",
       "      <th>Temperature</th>\n",
       "      <th>WindSpeed</th>\n",
       "      <th>Event</th>\n",
       "    </tr>\n",
       "  </thead>\n",
       "  <tbody>\n",
       "    <tr>\n",
       "      <th>0</th>\n",
       "      <td>2020-12-01</td>\n",
       "      <td>30</td>\n",
       "      <td>9</td>\n",
       "      <td>แดดร้อน</td>\n",
       "    </tr>\n",
       "    <tr>\n",
       "      <th>1</th>\n",
       "      <td>2020-12-02</td>\n",
       "      <td>28</td>\n",
       "      <td>8</td>\n",
       "      <td>เมฆมาก</td>\n",
       "    </tr>\n",
       "    <tr>\n",
       "      <th>2</th>\n",
       "      <td>2020-12-03</td>\n",
       "      <td>27</td>\n",
       "      <td>4</td>\n",
       "      <td>ฝนตก</td>\n",
       "    </tr>\n",
       "    <tr>\n",
       "      <th>3</th>\n",
       "      <td>2020-12-04</td>\n",
       "      <td>19</td>\n",
       "      <td>3</td>\n",
       "      <td>แดดร้อน</td>\n",
       "    </tr>\n",
       "    <tr>\n",
       "      <th>4</th>\n",
       "      <td>2020-12-05</td>\n",
       "      <td>20</td>\n",
       "      <td>5</td>\n",
       "      <td>เมฆมาก</td>\n",
       "    </tr>\n",
       "  </tbody>\n",
       "</table>\n",
       "</div>"
      ],
      "text/plain": [
       "         Day  Temperature  WindSpeed    Event\n",
       "0 2020-12-01           30          9  แดดร้อน\n",
       "1 2020-12-02           28          8   เมฆมาก\n",
       "2 2020-12-03           27          4     ฝนตก\n",
       "3 2020-12-04           19          3  แดดร้อน\n",
       "4 2020-12-05           20          5   เมฆมาก"
      ]
     },
     "execution_count": 2,
     "metadata": {},
     "output_type": "execute_result"
    }
   ],
   "source": [
    "# ได้ข้อมูล 5 แถวแรก\n",
    "df.head()"
   ]
  },
  {
   "cell_type": "code",
   "execution_count": 3,
   "id": "5b0abe1b",
   "metadata": {},
   "outputs": [
    {
     "data": {
      "text/html": [
       "<div>\n",
       "<style scoped>\n",
       "    .dataframe tbody tr th:only-of-type {\n",
       "        vertical-align: middle;\n",
       "    }\n",
       "\n",
       "    .dataframe tbody tr th {\n",
       "        vertical-align: top;\n",
       "    }\n",
       "\n",
       "    .dataframe thead th {\n",
       "        text-align: right;\n",
       "    }\n",
       "</style>\n",
       "<table border=\"1\" class=\"dataframe\">\n",
       "  <thead>\n",
       "    <tr style=\"text-align: right;\">\n",
       "      <th></th>\n",
       "      <th>Day</th>\n",
       "      <th>Temperature</th>\n",
       "      <th>WindSpeed</th>\n",
       "      <th>Event</th>\n",
       "    </tr>\n",
       "  </thead>\n",
       "  <tbody>\n",
       "    <tr>\n",
       "      <th>0</th>\n",
       "      <td>2020-12-01</td>\n",
       "      <td>30</td>\n",
       "      <td>9</td>\n",
       "      <td>แดดร้อน</td>\n",
       "    </tr>\n",
       "    <tr>\n",
       "      <th>1</th>\n",
       "      <td>2020-12-02</td>\n",
       "      <td>28</td>\n",
       "      <td>8</td>\n",
       "      <td>เมฆมาก</td>\n",
       "    </tr>\n",
       "    <tr>\n",
       "      <th>2</th>\n",
       "      <td>2020-12-03</td>\n",
       "      <td>27</td>\n",
       "      <td>4</td>\n",
       "      <td>ฝนตก</td>\n",
       "    </tr>\n",
       "    <tr>\n",
       "      <th>3</th>\n",
       "      <td>2020-12-04</td>\n",
       "      <td>19</td>\n",
       "      <td>3</td>\n",
       "      <td>แดดร้อน</td>\n",
       "    </tr>\n",
       "    <tr>\n",
       "      <th>4</th>\n",
       "      <td>2020-12-05</td>\n",
       "      <td>20</td>\n",
       "      <td>5</td>\n",
       "      <td>เมฆมาก</td>\n",
       "    </tr>\n",
       "    <tr>\n",
       "      <th>5</th>\n",
       "      <td>2020-12-06</td>\n",
       "      <td>25</td>\n",
       "      <td>6</td>\n",
       "      <td>ฝนตก</td>\n",
       "    </tr>\n",
       "    <tr>\n",
       "      <th>6</th>\n",
       "      <td>2020-12-07</td>\n",
       "      <td>36</td>\n",
       "      <td>4</td>\n",
       "      <td>ฝนตก</td>\n",
       "    </tr>\n",
       "    <tr>\n",
       "      <th>7</th>\n",
       "      <td>2020-12-08</td>\n",
       "      <td>28</td>\n",
       "      <td>6</td>\n",
       "      <td>ฝนตก</td>\n",
       "    </tr>\n",
       "    <tr>\n",
       "      <th>8</th>\n",
       "      <td>2020-12-09</td>\n",
       "      <td>17</td>\n",
       "      <td>5</td>\n",
       "      <td>เมฆมาก</td>\n",
       "    </tr>\n",
       "    <tr>\n",
       "      <th>9</th>\n",
       "      <td>2020-12-10</td>\n",
       "      <td>24</td>\n",
       "      <td>6</td>\n",
       "      <td>แดดร้อน</td>\n",
       "    </tr>\n",
       "  </tbody>\n",
       "</table>\n",
       "</div>"
      ],
      "text/plain": [
       "         Day  Temperature  WindSpeed    Event\n",
       "0 2020-12-01           30          9  แดดร้อน\n",
       "1 2020-12-02           28          8   เมฆมาก\n",
       "2 2020-12-03           27          4     ฝนตก\n",
       "3 2020-12-04           19          3  แดดร้อน\n",
       "4 2020-12-05           20          5   เมฆมาก\n",
       "5 2020-12-06           25          6     ฝนตก\n",
       "6 2020-12-07           36          4     ฝนตก\n",
       "7 2020-12-08           28          6     ฝนตก\n",
       "8 2020-12-09           17          5   เมฆมาก\n",
       "9 2020-12-10           24          6  แดดร้อน"
      ]
     },
     "execution_count": 3,
     "metadata": {},
     "output_type": "execute_result"
    }
   ],
   "source": [
    "# .head(จำนวนข้อมูลที่อยากได้)\n",
    "df.head(10)"
   ]
  },
  {
   "cell_type": "code",
   "execution_count": 4,
   "id": "716a4eaa",
   "metadata": {},
   "outputs": [
    {
     "data": {
      "text/html": [
       "<div>\n",
       "<style scoped>\n",
       "    .dataframe tbody tr th:only-of-type {\n",
       "        vertical-align: middle;\n",
       "    }\n",
       "\n",
       "    .dataframe tbody tr th {\n",
       "        vertical-align: top;\n",
       "    }\n",
       "\n",
       "    .dataframe thead th {\n",
       "        text-align: right;\n",
       "    }\n",
       "</style>\n",
       "<table border=\"1\" class=\"dataframe\">\n",
       "  <thead>\n",
       "    <tr style=\"text-align: right;\">\n",
       "      <th></th>\n",
       "      <th>Day</th>\n",
       "      <th>Temperature</th>\n",
       "      <th>WindSpeed</th>\n",
       "      <th>Event</th>\n",
       "    </tr>\n",
       "  </thead>\n",
       "  <tbody>\n",
       "    <tr>\n",
       "      <th>25</th>\n",
       "      <td>2020-12-26</td>\n",
       "      <td>25</td>\n",
       "      <td>8</td>\n",
       "      <td>ฝนตก</td>\n",
       "    </tr>\n",
       "    <tr>\n",
       "      <th>26</th>\n",
       "      <td>2020-12-27</td>\n",
       "      <td>28</td>\n",
       "      <td>9</td>\n",
       "      <td>เมฆมาก</td>\n",
       "    </tr>\n",
       "    <tr>\n",
       "      <th>27</th>\n",
       "      <td>2020-12-28</td>\n",
       "      <td>30</td>\n",
       "      <td>2</td>\n",
       "      <td>เมฆมาก</td>\n",
       "    </tr>\n",
       "    <tr>\n",
       "      <th>28</th>\n",
       "      <td>2020-12-29</td>\n",
       "      <td>31</td>\n",
       "      <td>1</td>\n",
       "      <td>ฝนตก</td>\n",
       "    </tr>\n",
       "    <tr>\n",
       "      <th>29</th>\n",
       "      <td>2020-12-30</td>\n",
       "      <td>35</td>\n",
       "      <td>2</td>\n",
       "      <td>ฝนตก</td>\n",
       "    </tr>\n",
       "  </tbody>\n",
       "</table>\n",
       "</div>"
      ],
      "text/plain": [
       "          Day  Temperature  WindSpeed   Event\n",
       "25 2020-12-26           25          8    ฝนตก\n",
       "26 2020-12-27           28          9  เมฆมาก\n",
       "27 2020-12-28           30          2  เมฆมาก\n",
       "28 2020-12-29           31          1    ฝนตก\n",
       "29 2020-12-30           35          2    ฝนตก"
      ]
     },
     "execution_count": 4,
     "metadata": {},
     "output_type": "execute_result"
    }
   ],
   "source": [
    "# 5 แถวสุดท้าย\n",
    "df.tail()"
   ]
  },
  {
   "cell_type": "code",
   "execution_count": 5,
   "id": "cb1a0019",
   "metadata": {},
   "outputs": [
    {
     "data": {
      "text/html": [
       "<div>\n",
       "<style scoped>\n",
       "    .dataframe tbody tr th:only-of-type {\n",
       "        vertical-align: middle;\n",
       "    }\n",
       "\n",
       "    .dataframe tbody tr th {\n",
       "        vertical-align: top;\n",
       "    }\n",
       "\n",
       "    .dataframe thead th {\n",
       "        text-align: right;\n",
       "    }\n",
       "</style>\n",
       "<table border=\"1\" class=\"dataframe\">\n",
       "  <thead>\n",
       "    <tr style=\"text-align: right;\">\n",
       "      <th></th>\n",
       "      <th>Day</th>\n",
       "      <th>Temperature</th>\n",
       "      <th>WindSpeed</th>\n",
       "      <th>Event</th>\n",
       "    </tr>\n",
       "  </thead>\n",
       "  <tbody>\n",
       "    <tr>\n",
       "      <th>20</th>\n",
       "      <td>2020-12-21</td>\n",
       "      <td>25</td>\n",
       "      <td>5</td>\n",
       "      <td>เมฆมาก</td>\n",
       "    </tr>\n",
       "    <tr>\n",
       "      <th>21</th>\n",
       "      <td>2020-12-22</td>\n",
       "      <td>38</td>\n",
       "      <td>2</td>\n",
       "      <td>เมฆมาก</td>\n",
       "    </tr>\n",
       "    <tr>\n",
       "      <th>22</th>\n",
       "      <td>2020-12-23</td>\n",
       "      <td>34</td>\n",
       "      <td>3</td>\n",
       "      <td>ฝนตก</td>\n",
       "    </tr>\n",
       "    <tr>\n",
       "      <th>23</th>\n",
       "      <td>2020-12-24</td>\n",
       "      <td>29</td>\n",
       "      <td>4</td>\n",
       "      <td>ฝนตก</td>\n",
       "    </tr>\n",
       "    <tr>\n",
       "      <th>24</th>\n",
       "      <td>2020-12-25</td>\n",
       "      <td>34</td>\n",
       "      <td>5</td>\n",
       "      <td>แดดร้อน</td>\n",
       "    </tr>\n",
       "    <tr>\n",
       "      <th>25</th>\n",
       "      <td>2020-12-26</td>\n",
       "      <td>25</td>\n",
       "      <td>8</td>\n",
       "      <td>ฝนตก</td>\n",
       "    </tr>\n",
       "    <tr>\n",
       "      <th>26</th>\n",
       "      <td>2020-12-27</td>\n",
       "      <td>28</td>\n",
       "      <td>9</td>\n",
       "      <td>เมฆมาก</td>\n",
       "    </tr>\n",
       "    <tr>\n",
       "      <th>27</th>\n",
       "      <td>2020-12-28</td>\n",
       "      <td>30</td>\n",
       "      <td>2</td>\n",
       "      <td>เมฆมาก</td>\n",
       "    </tr>\n",
       "    <tr>\n",
       "      <th>28</th>\n",
       "      <td>2020-12-29</td>\n",
       "      <td>31</td>\n",
       "      <td>1</td>\n",
       "      <td>ฝนตก</td>\n",
       "    </tr>\n",
       "    <tr>\n",
       "      <th>29</th>\n",
       "      <td>2020-12-30</td>\n",
       "      <td>35</td>\n",
       "      <td>2</td>\n",
       "      <td>ฝนตก</td>\n",
       "    </tr>\n",
       "  </tbody>\n",
       "</table>\n",
       "</div>"
      ],
      "text/plain": [
       "          Day  Temperature  WindSpeed    Event\n",
       "20 2020-12-21           25          5   เมฆมาก\n",
       "21 2020-12-22           38          2   เมฆมาก\n",
       "22 2020-12-23           34          3     ฝนตก\n",
       "23 2020-12-24           29          4     ฝนตก\n",
       "24 2020-12-25           34          5  แดดร้อน\n",
       "25 2020-12-26           25          8     ฝนตก\n",
       "26 2020-12-27           28          9   เมฆมาก\n",
       "27 2020-12-28           30          2   เมฆมาก\n",
       "28 2020-12-29           31          1     ฝนตก\n",
       "29 2020-12-30           35          2     ฝนตก"
      ]
     },
     "execution_count": 5,
     "metadata": {},
     "output_type": "execute_result"
    }
   ],
   "source": [
    "# .tail(จำนวนข้อมูลที่อยากได้)\n",
    "df.tail(10)"
   ]
  },
  {
   "cell_type": "code",
   "execution_count": 6,
   "id": "cb90167b",
   "metadata": {},
   "outputs": [
    {
     "data": {
      "text/html": [
       "<div>\n",
       "<style scoped>\n",
       "    .dataframe tbody tr th:only-of-type {\n",
       "        vertical-align: middle;\n",
       "    }\n",
       "\n",
       "    .dataframe tbody tr th {\n",
       "        vertical-align: top;\n",
       "    }\n",
       "\n",
       "    .dataframe thead th {\n",
       "        text-align: right;\n",
       "    }\n",
       "</style>\n",
       "<table border=\"1\" class=\"dataframe\">\n",
       "  <thead>\n",
       "    <tr style=\"text-align: right;\">\n",
       "      <th></th>\n",
       "      <th>Day</th>\n",
       "      <th>Temperature</th>\n",
       "      <th>WindSpeed</th>\n",
       "      <th>Event</th>\n",
       "    </tr>\n",
       "  </thead>\n",
       "  <tbody>\n",
       "    <tr>\n",
       "      <th>13</th>\n",
       "      <td>2020-12-14</td>\n",
       "      <td>31</td>\n",
       "      <td>5</td>\n",
       "      <td>เมฆมาก</td>\n",
       "    </tr>\n",
       "  </tbody>\n",
       "</table>\n",
       "</div>"
      ],
      "text/plain": [
       "          Day  Temperature  WindSpeed   Event\n",
       "13 2020-12-14           31          5  เมฆมาก"
      ]
     },
     "execution_count": 6,
     "metadata": {},
     "output_type": "execute_result"
    }
   ],
   "source": [
    "# ทำการสุ่มข้อมูล โดยถ้าไม่ระบุจะสุ่มมาแค่ 1 ค่า\n",
    "df.sample()"
   ]
  },
  {
   "cell_type": "code",
   "execution_count": 7,
   "id": "edb0674e",
   "metadata": {},
   "outputs": [
    {
     "data": {
      "text/html": [
       "<div>\n",
       "<style scoped>\n",
       "    .dataframe tbody tr th:only-of-type {\n",
       "        vertical-align: middle;\n",
       "    }\n",
       "\n",
       "    .dataframe tbody tr th {\n",
       "        vertical-align: top;\n",
       "    }\n",
       "\n",
       "    .dataframe thead th {\n",
       "        text-align: right;\n",
       "    }\n",
       "</style>\n",
       "<table border=\"1\" class=\"dataframe\">\n",
       "  <thead>\n",
       "    <tr style=\"text-align: right;\">\n",
       "      <th></th>\n",
       "      <th>Day</th>\n",
       "      <th>Temperature</th>\n",
       "      <th>WindSpeed</th>\n",
       "      <th>Event</th>\n",
       "    </tr>\n",
       "  </thead>\n",
       "  <tbody>\n",
       "    <tr>\n",
       "      <th>2</th>\n",
       "      <td>2020-12-03</td>\n",
       "      <td>27</td>\n",
       "      <td>4</td>\n",
       "      <td>ฝนตก</td>\n",
       "    </tr>\n",
       "    <tr>\n",
       "      <th>16</th>\n",
       "      <td>2020-12-17</td>\n",
       "      <td>20</td>\n",
       "      <td>8</td>\n",
       "      <td>ฝนตก</td>\n",
       "    </tr>\n",
       "    <tr>\n",
       "      <th>18</th>\n",
       "      <td>2020-12-19</td>\n",
       "      <td>25</td>\n",
       "      <td>7</td>\n",
       "      <td>แดดร้อน</td>\n",
       "    </tr>\n",
       "    <tr>\n",
       "      <th>4</th>\n",
       "      <td>2020-12-05</td>\n",
       "      <td>20</td>\n",
       "      <td>5</td>\n",
       "      <td>เมฆมาก</td>\n",
       "    </tr>\n",
       "    <tr>\n",
       "      <th>22</th>\n",
       "      <td>2020-12-23</td>\n",
       "      <td>34</td>\n",
       "      <td>3</td>\n",
       "      <td>ฝนตก</td>\n",
       "    </tr>\n",
       "  </tbody>\n",
       "</table>\n",
       "</div>"
      ],
      "text/plain": [
       "          Day  Temperature  WindSpeed    Event\n",
       "2  2020-12-03           27          4     ฝนตก\n",
       "16 2020-12-17           20          8     ฝนตก\n",
       "18 2020-12-19           25          7  แดดร้อน\n",
       "4  2020-12-05           20          5   เมฆมาก\n",
       "22 2020-12-23           34          3     ฝนตก"
      ]
     },
     "execution_count": 7,
     "metadata": {},
     "output_type": "execute_result"
    }
   ],
   "source": [
    "# ทำการสุ่มมา 5 ตัวอย่าง .sample(จำนวนที่ต้องการสุ่ม)\n",
    "df.sample(5)"
   ]
  },
  {
   "cell_type": "code",
   "execution_count": 8,
   "id": "ef2cfe8b",
   "metadata": {},
   "outputs": [
    {
     "data": {
      "text/html": [
       "<div>\n",
       "<style scoped>\n",
       "    .dataframe tbody tr th:only-of-type {\n",
       "        vertical-align: middle;\n",
       "    }\n",
       "\n",
       "    .dataframe tbody tr th {\n",
       "        vertical-align: top;\n",
       "    }\n",
       "\n",
       "    .dataframe thead th {\n",
       "        text-align: right;\n",
       "    }\n",
       "</style>\n",
       "<table border=\"1\" class=\"dataframe\">\n",
       "  <thead>\n",
       "    <tr style=\"text-align: right;\">\n",
       "      <th></th>\n",
       "      <th>Day</th>\n",
       "      <th>Temperature</th>\n",
       "      <th>WindSpeed</th>\n",
       "    </tr>\n",
       "  </thead>\n",
       "  <tbody>\n",
       "    <tr>\n",
       "      <th>count</th>\n",
       "      <td>30</td>\n",
       "      <td>30.000000</td>\n",
       "      <td>30.000000</td>\n",
       "    </tr>\n",
       "    <tr>\n",
       "      <th>mean</th>\n",
       "      <td>2020-12-15 12:00:00</td>\n",
       "      <td>27.433333</td>\n",
       "      <td>5.066667</td>\n",
       "    </tr>\n",
       "    <tr>\n",
       "      <th>min</th>\n",
       "      <td>2020-12-01 00:00:00</td>\n",
       "      <td>17.000000</td>\n",
       "      <td>1.000000</td>\n",
       "    </tr>\n",
       "    <tr>\n",
       "      <th>25%</th>\n",
       "      <td>2020-12-08 06:00:00</td>\n",
       "      <td>25.000000</td>\n",
       "      <td>4.000000</td>\n",
       "    </tr>\n",
       "    <tr>\n",
       "      <th>50%</th>\n",
       "      <td>2020-12-15 12:00:00</td>\n",
       "      <td>28.000000</td>\n",
       "      <td>5.000000</td>\n",
       "    </tr>\n",
       "    <tr>\n",
       "      <th>75%</th>\n",
       "      <td>2020-12-22 18:00:00</td>\n",
       "      <td>30.000000</td>\n",
       "      <td>6.750000</td>\n",
       "    </tr>\n",
       "    <tr>\n",
       "      <th>max</th>\n",
       "      <td>2020-12-30 00:00:00</td>\n",
       "      <td>38.000000</td>\n",
       "      <td>9.000000</td>\n",
       "    </tr>\n",
       "    <tr>\n",
       "      <th>std</th>\n",
       "      <td>NaN</td>\n",
       "      <td>5.237026</td>\n",
       "      <td>2.288402</td>\n",
       "    </tr>\n",
       "  </tbody>\n",
       "</table>\n",
       "</div>"
      ],
      "text/plain": [
       "                       Day  Temperature  WindSpeed\n",
       "count                   30    30.000000  30.000000\n",
       "mean   2020-12-15 12:00:00    27.433333   5.066667\n",
       "min    2020-12-01 00:00:00    17.000000   1.000000\n",
       "25%    2020-12-08 06:00:00    25.000000   4.000000\n",
       "50%    2020-12-15 12:00:00    28.000000   5.000000\n",
       "75%    2020-12-22 18:00:00    30.000000   6.750000\n",
       "max    2020-12-30 00:00:00    38.000000   9.000000\n",
       "std                    NaN     5.237026   2.288402"
      ]
     },
     "execution_count": 8,
     "metadata": {},
     "output_type": "execute_result"
    }
   ],
   "source": [
    "# ดูข้อมูลทางสถิติ ไม่ว่าจะเป็น count , mean , min , 25% , 50% , 75 % , std = ส่วนเบี่ยงเบนมาตรฐาน , max , min\n",
    "df.describe()"
   ]
  },
  {
   "cell_type": "code",
   "execution_count": 9,
   "id": "c6031730",
   "metadata": {},
   "outputs": [
    {
     "data": {
      "text/plain": [
       "(30, 4)"
      ]
     },
     "execution_count": 9,
     "metadata": {},
     "output_type": "execute_result"
    }
   ],
   "source": [
    "# บอก (จำนวนเแถว , จำนวน columns)\n",
    "df.shape"
   ]
  },
  {
   "cell_type": "code",
   "execution_count": 10,
   "id": "f4c5c99b",
   "metadata": {},
   "outputs": [
    {
     "data": {
      "text/plain": [
       "Index(['Day', 'Temperature', 'WindSpeed', 'Event'], dtype='object')"
      ]
     },
     "execution_count": 10,
     "metadata": {},
     "output_type": "execute_result"
    }
   ],
   "source": [
    "# แสดง columns ออกมา\n",
    "df.columns"
   ]
  },
  {
   "cell_type": "code",
   "execution_count": 11,
   "id": "1a30cdda",
   "metadata": {},
   "outputs": [
    {
     "data": {
      "text/plain": [
       "array([[Timestamp('2020-12-01 00:00:00'), 30, 9, 'แดดร้อน'],\n",
       "       [Timestamp('2020-12-02 00:00:00'), 28, 8, 'เมฆมาก'],\n",
       "       [Timestamp('2020-12-03 00:00:00'), 27, 4, 'ฝนตก'],\n",
       "       [Timestamp('2020-12-04 00:00:00'), 19, 3, 'แดดร้อน'],\n",
       "       [Timestamp('2020-12-05 00:00:00'), 20, 5, 'เมฆมาก'],\n",
       "       [Timestamp('2020-12-06 00:00:00'), 25, 6, 'ฝนตก'],\n",
       "       [Timestamp('2020-12-07 00:00:00'), 36, 4, 'ฝนตก'],\n",
       "       [Timestamp('2020-12-08 00:00:00'), 28, 6, 'ฝนตก'],\n",
       "       [Timestamp('2020-12-09 00:00:00'), 17, 5, 'เมฆมาก'],\n",
       "       [Timestamp('2020-12-10 00:00:00'), 24, 6, 'แดดร้อน'],\n",
       "       [Timestamp('2020-12-11 00:00:00'), 26, 4, 'ฝนตก'],\n",
       "       [Timestamp('2020-12-12 00:00:00'), 27, 9, 'แดดร้อน'],\n",
       "       [Timestamp('2020-12-13 00:00:00'), 30, 2, 'แดดร้อน'],\n",
       "       [Timestamp('2020-12-14 00:00:00'), 31, 5, 'เมฆมาก'],\n",
       "       [Timestamp('2020-12-15 00:00:00'), 28, 4, 'แดดร้อน'],\n",
       "       [Timestamp('2020-12-16 00:00:00'), 27, 7, 'แดดร้อน'],\n",
       "       [Timestamp('2020-12-17 00:00:00'), 20, 8, 'ฝนตก'],\n",
       "       [Timestamp('2020-12-18 00:00:00'), 18, 5, 'ฝนตก'],\n",
       "       [Timestamp('2020-12-19 00:00:00'), 25, 7, 'แดดร้อน'],\n",
       "       [Timestamp('2020-12-20 00:00:00'), 28, 4, 'เมฆมาก'],\n",
       "       [Timestamp('2020-12-21 00:00:00'), 25, 5, 'เมฆมาก'],\n",
       "       [Timestamp('2020-12-22 00:00:00'), 38, 2, 'เมฆมาก'],\n",
       "       [Timestamp('2020-12-23 00:00:00'), 34, 3, 'ฝนตก'],\n",
       "       [Timestamp('2020-12-24 00:00:00'), 29, 4, 'ฝนตก'],\n",
       "       [Timestamp('2020-12-25 00:00:00'), 34, 5, 'แดดร้อน'],\n",
       "       [Timestamp('2020-12-26 00:00:00'), 25, 8, 'ฝนตก'],\n",
       "       [Timestamp('2020-12-27 00:00:00'), 28, 9, 'เมฆมาก'],\n",
       "       [Timestamp('2020-12-28 00:00:00'), 30, 2, 'เมฆมาก'],\n",
       "       [Timestamp('2020-12-29 00:00:00'), 31, 1, 'ฝนตก'],\n",
       "       [Timestamp('2020-12-30 00:00:00'), 35, 2, 'ฝนตก']], dtype=object)"
      ]
     },
     "execution_count": 11,
     "metadata": {},
     "output_type": "execute_result"
    }
   ],
   "source": [
    "# จะได้ก้อน array ที่เก็บข้อมูลใน dataFrame\n",
    "df.values"
   ]
  },
  {
   "cell_type": "code",
   "execution_count": 12,
   "id": "5a5243e0",
   "metadata": {},
   "outputs": [
    {
     "data": {
      "text/plain": [
       "np.int64(38)"
      ]
     },
     "execution_count": 12,
     "metadata": {},
     "output_type": "execute_result"
    }
   ],
   "source": [
    "# หาค่า max โดย .columns .max\n",
    "df.Temperature.max()"
   ]
  },
  {
   "cell_type": "code",
   "execution_count": 13,
   "id": "bc08b989",
   "metadata": {},
   "outputs": [
    {
     "data": {
      "text/plain": [
       "np.int64(17)"
      ]
     },
     "execution_count": 13,
     "metadata": {},
     "output_type": "execute_result"
    }
   ],
   "source": [
    "# หาค่า min\n",
    "df.Temperature.min()"
   ]
  },
  {
   "cell_type": "code",
   "execution_count": 14,
   "id": "ed9461bc",
   "metadata": {},
   "outputs": [
    {
     "data": {
      "text/plain": [
       "np.float64(27.433333333333334)"
      ]
     },
     "execution_count": 14,
     "metadata": {},
     "output_type": "execute_result"
    }
   ],
   "source": [
    "# หาค่า mean\n",
    "df.Temperature.mean()"
   ]
  },
  {
   "cell_type": "code",
   "execution_count": 15,
   "id": "58da9b11",
   "metadata": {},
   "outputs": [
    {
     "data": {
      "text/plain": [
       "np.float64(5.237025566255066)"
      ]
     },
     "execution_count": 15,
     "metadata": {},
     "output_type": "execute_result"
    }
   ],
   "source": [
    "# หาค่าส่วนเบี่ยงเบนมาตรฐาน\n",
    "df.Temperature.std()"
   ]
  },
  {
   "cell_type": "code",
   "execution_count": 16,
   "id": "b9b26cbb",
   "metadata": {},
   "outputs": [
    {
     "data": {
      "text/plain": [
       "np.int64(30)"
      ]
     },
     "execution_count": 16,
     "metadata": {},
     "output_type": "execute_result"
    }
   ],
   "source": [
    "# นับจำนวนข้อมูลใน Temperature\n",
    "df.Temperature.count()"
   ]
  },
  {
   "cell_type": "code",
   "execution_count": 17,
   "id": "78110c4b",
   "metadata": {},
   "outputs": [
    {
     "data": {
      "text/plain": [
       "np.int64(823)"
      ]
     },
     "execution_count": 17,
     "metadata": {},
     "output_type": "execute_result"
    }
   ],
   "source": [
    "# sum ค่าทั้งหมด\n",
    "df.Temperature.sum()"
   ]
  },
  {
   "cell_type": "code",
   "execution_count": 18,
   "id": "52983879",
   "metadata": {},
   "outputs": [
    {
     "data": {
      "text/plain": [
       "Day            datetime64[ns]\n",
       "Temperature             int64\n",
       "WindSpeed               int64\n",
       "Event                  object\n",
       "dtype: object"
      ]
     },
     "execution_count": 18,
     "metadata": {},
     "output_type": "execute_result"
    }
   ],
   "source": [
    "# ดู Type ข้อมูล\n",
    "df.dtypes"
   ]
  },
  {
   "cell_type": "code",
   "execution_count": 19,
   "id": "d41bcb34",
   "metadata": {},
   "outputs": [
    {
     "data": {
      "text/plain": [
       "Day            datetime64[ns]\n",
       "Temperature           float64\n",
       "WindSpeed               int64\n",
       "Event                  object\n",
       "dtype: object"
      ]
     },
     "execution_count": 19,
     "metadata": {},
     "output_type": "execute_result"
    }
   ],
   "source": [
    "# สามารถแปลง type columns ได้ อันนี้แปลงจาก int -> float\n",
    "df.Temperature = df.Temperature.astype(\"float\")\n",
    "df.dtypes"
   ]
  },
  {
   "cell_type": "code",
   "execution_count": 20,
   "id": "64a92804",
   "metadata": {},
   "outputs": [
    {
     "data": {
      "text/plain": [
       "1    28.0\n",
       "2    27.0\n",
       "3    19.0\n",
       "4    20.0\n",
       "5    25.0\n",
       "Name: Temperature, dtype: float64"
      ]
     },
     "execution_count": 20,
     "metadata": {},
     "output_type": "execute_result"
    }
   ],
   "source": [
    "# เลือกโดยอ้างอิงจาก \" Columns \" ข้อมูลเป็นช่วงของใน columns\n",
    "df.Temperature[1:6]"
   ]
  },
  {
   "cell_type": "code",
   "execution_count": 21,
   "id": "5602b889",
   "metadata": {},
   "outputs": [
    {
     "data": {
      "text/html": [
       "<div>\n",
       "<style scoped>\n",
       "    .dataframe tbody tr th:only-of-type {\n",
       "        vertical-align: middle;\n",
       "    }\n",
       "\n",
       "    .dataframe tbody tr th {\n",
       "        vertical-align: top;\n",
       "    }\n",
       "\n",
       "    .dataframe thead th {\n",
       "        text-align: right;\n",
       "    }\n",
       "</style>\n",
       "<table border=\"1\" class=\"dataframe\">\n",
       "  <thead>\n",
       "    <tr style=\"text-align: right;\">\n",
       "      <th></th>\n",
       "      <th>Temperature</th>\n",
       "      <th>Event</th>\n",
       "    </tr>\n",
       "  </thead>\n",
       "  <tbody>\n",
       "    <tr>\n",
       "      <th>0</th>\n",
       "      <td>30.0</td>\n",
       "      <td>แดดร้อน</td>\n",
       "    </tr>\n",
       "    <tr>\n",
       "      <th>1</th>\n",
       "      <td>28.0</td>\n",
       "      <td>เมฆมาก</td>\n",
       "    </tr>\n",
       "    <tr>\n",
       "      <th>2</th>\n",
       "      <td>27.0</td>\n",
       "      <td>ฝนตก</td>\n",
       "    </tr>\n",
       "    <tr>\n",
       "      <th>3</th>\n",
       "      <td>19.0</td>\n",
       "      <td>แดดร้อน</td>\n",
       "    </tr>\n",
       "    <tr>\n",
       "      <th>4</th>\n",
       "      <td>20.0</td>\n",
       "      <td>เมฆมาก</td>\n",
       "    </tr>\n",
       "    <tr>\n",
       "      <th>5</th>\n",
       "      <td>25.0</td>\n",
       "      <td>ฝนตก</td>\n",
       "    </tr>\n",
       "    <tr>\n",
       "      <th>6</th>\n",
       "      <td>36.0</td>\n",
       "      <td>ฝนตก</td>\n",
       "    </tr>\n",
       "    <tr>\n",
       "      <th>7</th>\n",
       "      <td>28.0</td>\n",
       "      <td>ฝนตก</td>\n",
       "    </tr>\n",
       "    <tr>\n",
       "      <th>8</th>\n",
       "      <td>17.0</td>\n",
       "      <td>เมฆมาก</td>\n",
       "    </tr>\n",
       "    <tr>\n",
       "      <th>9</th>\n",
       "      <td>24.0</td>\n",
       "      <td>แดดร้อน</td>\n",
       "    </tr>\n",
       "    <tr>\n",
       "      <th>10</th>\n",
       "      <td>26.0</td>\n",
       "      <td>ฝนตก</td>\n",
       "    </tr>\n",
       "    <tr>\n",
       "      <th>11</th>\n",
       "      <td>27.0</td>\n",
       "      <td>แดดร้อน</td>\n",
       "    </tr>\n",
       "    <tr>\n",
       "      <th>12</th>\n",
       "      <td>30.0</td>\n",
       "      <td>แดดร้อน</td>\n",
       "    </tr>\n",
       "    <tr>\n",
       "      <th>13</th>\n",
       "      <td>31.0</td>\n",
       "      <td>เมฆมาก</td>\n",
       "    </tr>\n",
       "    <tr>\n",
       "      <th>14</th>\n",
       "      <td>28.0</td>\n",
       "      <td>แดดร้อน</td>\n",
       "    </tr>\n",
       "    <tr>\n",
       "      <th>15</th>\n",
       "      <td>27.0</td>\n",
       "      <td>แดดร้อน</td>\n",
       "    </tr>\n",
       "    <tr>\n",
       "      <th>16</th>\n",
       "      <td>20.0</td>\n",
       "      <td>ฝนตก</td>\n",
       "    </tr>\n",
       "    <tr>\n",
       "      <th>17</th>\n",
       "      <td>18.0</td>\n",
       "      <td>ฝนตก</td>\n",
       "    </tr>\n",
       "    <tr>\n",
       "      <th>18</th>\n",
       "      <td>25.0</td>\n",
       "      <td>แดดร้อน</td>\n",
       "    </tr>\n",
       "    <tr>\n",
       "      <th>19</th>\n",
       "      <td>28.0</td>\n",
       "      <td>เมฆมาก</td>\n",
       "    </tr>\n",
       "    <tr>\n",
       "      <th>20</th>\n",
       "      <td>25.0</td>\n",
       "      <td>เมฆมาก</td>\n",
       "    </tr>\n",
       "    <tr>\n",
       "      <th>21</th>\n",
       "      <td>38.0</td>\n",
       "      <td>เมฆมาก</td>\n",
       "    </tr>\n",
       "    <tr>\n",
       "      <th>22</th>\n",
       "      <td>34.0</td>\n",
       "      <td>ฝนตก</td>\n",
       "    </tr>\n",
       "    <tr>\n",
       "      <th>23</th>\n",
       "      <td>29.0</td>\n",
       "      <td>ฝนตก</td>\n",
       "    </tr>\n",
       "    <tr>\n",
       "      <th>24</th>\n",
       "      <td>34.0</td>\n",
       "      <td>แดดร้อน</td>\n",
       "    </tr>\n",
       "    <tr>\n",
       "      <th>25</th>\n",
       "      <td>25.0</td>\n",
       "      <td>ฝนตก</td>\n",
       "    </tr>\n",
       "    <tr>\n",
       "      <th>26</th>\n",
       "      <td>28.0</td>\n",
       "      <td>เมฆมาก</td>\n",
       "    </tr>\n",
       "    <tr>\n",
       "      <th>27</th>\n",
       "      <td>30.0</td>\n",
       "      <td>เมฆมาก</td>\n",
       "    </tr>\n",
       "    <tr>\n",
       "      <th>28</th>\n",
       "      <td>31.0</td>\n",
       "      <td>ฝนตก</td>\n",
       "    </tr>\n",
       "    <tr>\n",
       "      <th>29</th>\n",
       "      <td>35.0</td>\n",
       "      <td>ฝนตก</td>\n",
       "    </tr>\n",
       "  </tbody>\n",
       "</table>\n",
       "</div>"
      ],
      "text/plain": [
       "    Temperature    Event\n",
       "0          30.0  แดดร้อน\n",
       "1          28.0   เมฆมาก\n",
       "2          27.0     ฝนตก\n",
       "3          19.0  แดดร้อน\n",
       "4          20.0   เมฆมาก\n",
       "5          25.0     ฝนตก\n",
       "6          36.0     ฝนตก\n",
       "7          28.0     ฝนตก\n",
       "8          17.0   เมฆมาก\n",
       "9          24.0  แดดร้อน\n",
       "10         26.0     ฝนตก\n",
       "11         27.0  แดดร้อน\n",
       "12         30.0  แดดร้อน\n",
       "13         31.0   เมฆมาก\n",
       "14         28.0  แดดร้อน\n",
       "15         27.0  แดดร้อน\n",
       "16         20.0     ฝนตก\n",
       "17         18.0     ฝนตก\n",
       "18         25.0  แดดร้อน\n",
       "19         28.0   เมฆมาก\n",
       "20         25.0   เมฆมาก\n",
       "21         38.0   เมฆมาก\n",
       "22         34.0     ฝนตก\n",
       "23         29.0     ฝนตก\n",
       "24         34.0  แดดร้อน\n",
       "25         25.0     ฝนตก\n",
       "26         28.0   เมฆมาก\n",
       "27         30.0   เมฆมาก\n",
       "28         31.0     ฝนตก\n",
       "29         35.0     ฝนตก"
      ]
     },
     "execution_count": 21,
     "metadata": {},
     "output_type": "execute_result"
    }
   ],
   "source": [
    "#  เลือกโดยอ้างอิงจาก \" Columns \" โดยเลือกข้อมูลออกมา 2 columns\n",
    "df[[\"Temperature\" , \"Event\"]]"
   ]
  },
  {
   "cell_type": "code",
   "execution_count": 22,
   "id": "4fc73f6e",
   "metadata": {},
   "outputs": [
    {
     "data": {
      "text/html": [
       "<div>\n",
       "<style scoped>\n",
       "    .dataframe tbody tr th:only-of-type {\n",
       "        vertical-align: middle;\n",
       "    }\n",
       "\n",
       "    .dataframe tbody tr th {\n",
       "        vertical-align: top;\n",
       "    }\n",
       "\n",
       "    .dataframe thead th {\n",
       "        text-align: right;\n",
       "    }\n",
       "</style>\n",
       "<table border=\"1\" class=\"dataframe\">\n",
       "  <thead>\n",
       "    <tr style=\"text-align: right;\">\n",
       "      <th></th>\n",
       "      <th>Temperature</th>\n",
       "      <th>Event</th>\n",
       "    </tr>\n",
       "  </thead>\n",
       "  <tbody>\n",
       "    <tr>\n",
       "      <th>1</th>\n",
       "      <td>28.0</td>\n",
       "      <td>เมฆมาก</td>\n",
       "    </tr>\n",
       "    <tr>\n",
       "      <th>2</th>\n",
       "      <td>27.0</td>\n",
       "      <td>ฝนตก</td>\n",
       "    </tr>\n",
       "  </tbody>\n",
       "</table>\n",
       "</div>"
      ],
      "text/plain": [
       "   Temperature   Event\n",
       "1         28.0  เมฆมาก\n",
       "2         27.0    ฝนตก"
      ]
     },
     "execution_count": 22,
     "metadata": {},
     "output_type": "execute_result"
    }
   ],
   "source": [
    "#  เลือกโดยอ้างอิงจาก \" Columns \" โดยเลือกข้อมูลออกมา 2 columns แบบ ระบุช่วง\n",
    "df[[\"Temperature\" , \"Event\"]][1:3]"
   ]
  },
  {
   "cell_type": "code",
   "execution_count": 23,
   "id": "af5641d4",
   "metadata": {},
   "outputs": [
    {
     "data": {
      "text/html": [
       "<div>\n",
       "<style scoped>\n",
       "    .dataframe tbody tr th:only-of-type {\n",
       "        vertical-align: middle;\n",
       "    }\n",
       "\n",
       "    .dataframe tbody tr th {\n",
       "        vertical-align: top;\n",
       "    }\n",
       "\n",
       "    .dataframe thead th {\n",
       "        text-align: right;\n",
       "    }\n",
       "</style>\n",
       "<table border=\"1\" class=\"dataframe\">\n",
       "  <thead>\n",
       "    <tr style=\"text-align: right;\">\n",
       "      <th></th>\n",
       "      <th>Day</th>\n",
       "      <th>Temperature</th>\n",
       "      <th>WindSpeed</th>\n",
       "      <th>Event</th>\n",
       "    </tr>\n",
       "  </thead>\n",
       "  <tbody>\n",
       "    <tr>\n",
       "      <th>1</th>\n",
       "      <td>2020-12-02</td>\n",
       "      <td>28.0</td>\n",
       "      <td>8</td>\n",
       "      <td>เมฆมาก</td>\n",
       "    </tr>\n",
       "    <tr>\n",
       "      <th>2</th>\n",
       "      <td>2020-12-03</td>\n",
       "      <td>27.0</td>\n",
       "      <td>4</td>\n",
       "      <td>ฝนตก</td>\n",
       "    </tr>\n",
       "    <tr>\n",
       "      <th>3</th>\n",
       "      <td>2020-12-04</td>\n",
       "      <td>19.0</td>\n",
       "      <td>3</td>\n",
       "      <td>แดดร้อน</td>\n",
       "    </tr>\n",
       "  </tbody>\n",
       "</table>\n",
       "</div>"
      ],
      "text/plain": [
       "         Day  Temperature  WindSpeed    Event\n",
       "1 2020-12-02         28.0          8   เมฆมาก\n",
       "2 2020-12-03         27.0          4     ฝนตก\n",
       "3 2020-12-04         19.0          3  แดดร้อน"
      ]
     },
     "execution_count": 23,
     "metadata": {},
     "output_type": "execute_result"
    }
   ],
   "source": [
    "# เลิอกโดยอ้างอิงจาก \" ROW \" เป็นการดึงข้อมูลโดยอิงจากแถวอันนี้เอามา 1 ถึง 3\n",
    "# แต่ถ้าเขียนอย่างงี้จะดึงมาทุก columns\n",
    "df[1:4]"
   ]
  },
  {
   "cell_type": "code",
   "execution_count": 24,
   "id": "669a09ea",
   "metadata": {},
   "outputs": [
    {
     "data": {
      "text/plain": [
       "1    8\n",
       "2    4\n",
       "3    3\n",
       "Name: WindSpeed, dtype: int64"
      ]
     },
     "execution_count": 24,
     "metadata": {},
     "output_type": "execute_result"
    }
   ],
   "source": [
    "# การ .ชื่อ Columns ก็จะเอามาแค่ Columns นั้น\n",
    "df[1:4].WindSpeed"
   ]
  },
  {
   "cell_type": "code",
   "execution_count": 25,
   "id": "9737eb74",
   "metadata": {},
   "outputs": [
    {
     "data": {
      "text/plain": [
       "'เมฆมาก'"
      ]
     },
     "execution_count": 25,
     "metadata": {},
     "output_type": "execute_result"
    }
   ],
   "source": [
    "df = pd.read_excel(\"dataupdate.xlsx\" , sheet_name=\"weather\" , index_col=\"Day\")\n",
    "# df.loc[row_label][column_label]\n",
    "# ปกติจะต้องอ้างอิงผ่านเลข index แต่ ฉันทำการแก้ให้ columns Day เป็น index แทนเลยทำแบบนี้ได้\n",
    "df.loc[\"2020-12-02\"][\"Event\"]"
   ]
  },
  {
   "cell_type": "code",
   "execution_count": 26,
   "id": "b3f775c5",
   "metadata": {},
   "outputs": [
    {
     "data": {
      "text/plain": [
       "Day\n",
       "2020-12-02     เมฆมาก\n",
       "2020-12-03       ฝนตก\n",
       "2020-12-04    แดดร้อน\n",
       "2020-12-05     เมฆมาก\n",
       "2020-12-06       ฝนตก\n",
       "2020-12-07       ฝนตก\n",
       "2020-12-08       ฝนตก\n",
       "2020-12-09     เมฆมาก\n",
       "2020-12-10    แดดร้อน\n",
       "2020-12-11       ฝนตก\n",
       "2020-12-12    แดดร้อน\n",
       "2020-12-13    แดดร้อน\n",
       "2020-12-14     เมฆมาก\n",
       "2020-12-15    แดดร้อน\n",
       "Name: Event, dtype: object"
      ]
     },
     "execution_count": 26,
     "metadata": {},
     "output_type": "execute_result"
    }
   ],
   "source": [
    "# ใช้ slice ในการทำให้สามารถดูตั้งแต่ วันที่ 02 -> 15\n",
    "df.loc[\"2020-12-02\":\"2020-12-15\"][\"Event\"]"
   ]
  },
  {
   "cell_type": "code",
   "execution_count": null,
   "id": "f01381e7",
   "metadata": {},
   "outputs": [
    {
     "data": {
      "text/plain": [
       "Day\n",
       "2020-12-01    False\n",
       "2020-12-02    False\n",
       "2020-12-03     True\n",
       "2020-12-04    False\n",
       "2020-12-05    False\n",
       "2020-12-06     True\n",
       "2020-12-07     True\n",
       "2020-12-08     True\n",
       "2020-12-09    False\n",
       "2020-12-10    False\n",
       "2020-12-11     True\n",
       "2020-12-12    False\n",
       "2020-12-13    False\n",
       "2020-12-14    False\n",
       "2020-12-15    False\n",
       "2020-12-16    False\n",
       "2020-12-17     True\n",
       "2020-12-18     True\n",
       "2020-12-19    False\n",
       "2020-12-20    False\n",
       "2020-12-21    False\n",
       "2020-12-22    False\n",
       "2020-12-23     True\n",
       "2020-12-24     True\n",
       "2020-12-25    False\n",
       "2020-12-26     True\n",
       "2020-12-27    False\n",
       "2020-12-28    False\n",
       "2020-12-29     True\n",
       "2020-12-30     True\n",
       "Name: Event, dtype: bool"
      ]
     },
     "execution_count": 27,
     "metadata": {},
     "output_type": "execute_result"
    }
   ],
   "source": [
    "# ทำให้ค่าใน Event เป็น string ด้วยการ .str แล้ว .match(สิ่งที่ต้องการหา) ถ้า return true แปลว่ามีสิ่งนั้น\n",
    "df.Event.str.match(\"ฝนตก\")"
   ]
  }
 ],
 "metadata": {
  "kernelspec": {
   "display_name": "Python 3",
   "language": "python",
   "name": "python3"
  },
  "language_info": {
   "codemirror_mode": {
    "name": "ipython",
    "version": 3
   },
   "file_extension": ".py",
   "mimetype": "text/x-python",
   "name": "python",
   "nbconvert_exporter": "python",
   "pygments_lexer": "ipython3",
   "version": "3.13.2"
  }
 },
 "nbformat": 4,
 "nbformat_minor": 5
}
