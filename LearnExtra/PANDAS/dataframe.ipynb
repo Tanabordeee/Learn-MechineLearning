{
 "cells": [
  {
   "cell_type": "code",
   "execution_count": null,
   "id": "4182ff82",
   "metadata": {},
   "outputs": [],
   "source": [
    "import pandas as pd\n",
    " # LIST\n",
    "datas = [10,20,30,40,50]"
   ]
  },
  {
   "cell_type": "code",
   "execution_count": null,
   "id": "5a4eabde",
   "metadata": {},
   "outputs": [
    {
     "data": {
      "text/html": [
       "<div>\n",
       "<style scoped>\n",
       "    .dataframe tbody tr th:only-of-type {\n",
       "        vertical-align: middle;\n",
       "    }\n",
       "\n",
       "    .dataframe tbody tr th {\n",
       "        vertical-align: top;\n",
       "    }\n",
       "\n",
       "    .dataframe thead th {\n",
       "        text-align: right;\n",
       "    }\n",
       "</style>\n",
       "<table border=\"1\" class=\"dataframe\">\n",
       "  <thead>\n",
       "    <tr style=\"text-align: right;\">\n",
       "      <th></th>\n",
       "      <th>0</th>\n",
       "    </tr>\n",
       "  </thead>\n",
       "  <tbody>\n",
       "    <tr>\n",
       "      <th>0</th>\n",
       "      <td>10</td>\n",
       "    </tr>\n",
       "    <tr>\n",
       "      <th>1</th>\n",
       "      <td>20</td>\n",
       "    </tr>\n",
       "    <tr>\n",
       "      <th>2</th>\n",
       "      <td>30</td>\n",
       "    </tr>\n",
       "    <tr>\n",
       "      <th>3</th>\n",
       "      <td>40</td>\n",
       "    </tr>\n",
       "    <tr>\n",
       "      <th>4</th>\n",
       "      <td>50</td>\n",
       "    </tr>\n",
       "  </tbody>\n",
       "</table>\n",
       "</div>"
      ],
      "text/plain": [
       "    0\n",
       "0  10\n",
       "1  20\n",
       "2  30\n",
       "3  40\n",
       "4  50"
      ]
     },
     "execution_count": 2,
     "metadata": {},
     "output_type": "execute_result"
    }
   ],
   "source": [
    "# สร้าง DataFrame แบบ LIST\n",
    "df = pd.DataFrame(datas)"
   ]
  },
  {
   "cell_type": "code",
   "execution_count": 3,
   "id": "aa118ba5",
   "metadata": {},
   "outputs": [],
   "source": [
    "# Tuple\n",
    "datas_tp = (59,58,76,77)"
   ]
  },
  {
   "cell_type": "code",
   "execution_count": 5,
   "id": "5d4eabe8",
   "metadata": {},
   "outputs": [
    {
     "data": {
      "text/html": [
       "<div>\n",
       "<style scoped>\n",
       "    .dataframe tbody tr th:only-of-type {\n",
       "        vertical-align: middle;\n",
       "    }\n",
       "\n",
       "    .dataframe tbody tr th {\n",
       "        vertical-align: top;\n",
       "    }\n",
       "\n",
       "    .dataframe thead th {\n",
       "        text-align: right;\n",
       "    }\n",
       "</style>\n",
       "<table border=\"1\" class=\"dataframe\">\n",
       "  <thead>\n",
       "    <tr style=\"text-align: right;\">\n",
       "      <th></th>\n",
       "      <th>0</th>\n",
       "    </tr>\n",
       "  </thead>\n",
       "  <tbody>\n",
       "    <tr>\n",
       "      <th>0</th>\n",
       "      <td>59</td>\n",
       "    </tr>\n",
       "    <tr>\n",
       "      <th>1</th>\n",
       "      <td>58</td>\n",
       "    </tr>\n",
       "    <tr>\n",
       "      <th>2</th>\n",
       "      <td>76</td>\n",
       "    </tr>\n",
       "    <tr>\n",
       "      <th>3</th>\n",
       "      <td>77</td>\n",
       "    </tr>\n",
       "  </tbody>\n",
       "</table>\n",
       "</div>"
      ],
      "text/plain": [
       "    0\n",
       "0  59\n",
       "1  58\n",
       "2  76\n",
       "3  77"
      ]
     },
     "execution_count": 5,
     "metadata": {},
     "output_type": "execute_result"
    }
   ],
   "source": [
    "# สร้าง DataFrame แบบ Tuple\n",
    "df = pd.DataFrame(datas_tp)\n",
    "df"
   ]
  },
  {
   "cell_type": "code",
   "execution_count": null,
   "id": "d83095dd",
   "metadata": {},
   "outputs": [
    {
     "data": {
      "text/html": [
       "<div>\n",
       "<style scoped>\n",
       "    .dataframe tbody tr th:only-of-type {\n",
       "        vertical-align: middle;\n",
       "    }\n",
       "\n",
       "    .dataframe tbody tr th {\n",
       "        vertical-align: top;\n",
       "    }\n",
       "\n",
       "    .dataframe thead th {\n",
       "        text-align: right;\n",
       "    }\n",
       "</style>\n",
       "<table border=\"1\" class=\"dataframe\">\n",
       "  <thead>\n",
       "    <tr style=\"text-align: right;\">\n",
       "      <th></th>\n",
       "      <th>AGE</th>\n",
       "    </tr>\n",
       "  </thead>\n",
       "  <tbody>\n",
       "    <tr>\n",
       "      <th>0</th>\n",
       "      <td>59</td>\n",
       "    </tr>\n",
       "    <tr>\n",
       "      <th>1</th>\n",
       "      <td>58</td>\n",
       "    </tr>\n",
       "    <tr>\n",
       "      <th>2</th>\n",
       "      <td>76</td>\n",
       "    </tr>\n",
       "    <tr>\n",
       "      <th>3</th>\n",
       "      <td>77</td>\n",
       "    </tr>\n",
       "  </tbody>\n",
       "</table>\n",
       "</div>"
      ],
      "text/plain": [
       "   AGE\n",
       "0   59\n",
       "1   58\n",
       "2   76\n",
       "3   77"
      ]
     },
     "execution_count": 8,
     "metadata": {},
     "output_type": "execute_result"
    }
   ],
   "source": [
    "# สร้าง DataFrame ตั้งชื่อ columns\n",
    "cols = [\"AGE\"]\n",
    "# Assign ชื่อ Columns ลงไป\n",
    "df = pd.DataFrame(datas_tp , columns=cols)\n",
    "df"
   ]
  },
  {
   "cell_type": "code",
   "execution_count": null,
   "id": "4c2ea1e9",
   "metadata": {},
   "outputs": [
    {
     "data": {
      "text/html": [
       "<div>\n",
       "<style scoped>\n",
       "    .dataframe tbody tr th:only-of-type {\n",
       "        vertical-align: middle;\n",
       "    }\n",
       "\n",
       "    .dataframe tbody tr th {\n",
       "        vertical-align: top;\n",
       "    }\n",
       "\n",
       "    .dataframe thead th {\n",
       "        text-align: right;\n",
       "    }\n",
       "</style>\n",
       "<table border=\"1\" class=\"dataframe\">\n",
       "  <thead>\n",
       "    <tr style=\"text-align: right;\">\n",
       "      <th></th>\n",
       "      <th>0</th>\n",
       "      <th>1</th>\n",
       "      <th>2</th>\n",
       "    </tr>\n",
       "  </thead>\n",
       "  <tbody>\n",
       "    <tr>\n",
       "      <th>0</th>\n",
       "      <td>keyboard</td>\n",
       "      <td>Device</td>\n",
       "      <td>12000</td>\n",
       "    </tr>\n",
       "    <tr>\n",
       "      <th>1</th>\n",
       "      <td>Bear_TOY</td>\n",
       "      <td>TOY</td>\n",
       "      <td>900</td>\n",
       "    </tr>\n",
       "    <tr>\n",
       "      <th>2</th>\n",
       "      <td>Iphone 12</td>\n",
       "      <td>Device</td>\n",
       "      <td>30000</td>\n",
       "    </tr>\n",
       "  </tbody>\n",
       "</table>\n",
       "</div>"
      ],
      "text/plain": [
       "           0       1      2\n",
       "0   keyboard  Device  12000\n",
       "1   Bear_TOY     TOY    900\n",
       "2  Iphone 12  Device  30000"
      ]
     },
     "execution_count": 9,
     "metadata": {},
     "output_type": "execute_result"
    }
   ],
   "source": [
    "# DataFrame แบบ หลายมิติ\n",
    "data = [\n",
    "    [\"keyboard\" , \"Device\" , 12000],\n",
    "    [\"Bear_TOY\" , \"TOY\" , 900],\n",
    "    [\"Iphone 12\" , \"Device\" , 30000]\n",
    "]\n",
    "new_df = pd.DataFrame(data)\n",
    "new_df"
   ]
  },
  {
   "cell_type": "code",
   "execution_count": 10,
   "id": "989fda3e",
   "metadata": {},
   "outputs": [
    {
     "data": {
      "text/html": [
       "<div>\n",
       "<style scoped>\n",
       "    .dataframe tbody tr th:only-of-type {\n",
       "        vertical-align: middle;\n",
       "    }\n",
       "\n",
       "    .dataframe tbody tr th {\n",
       "        vertical-align: top;\n",
       "    }\n",
       "\n",
       "    .dataframe thead th {\n",
       "        text-align: right;\n",
       "    }\n",
       "</style>\n",
       "<table border=\"1\" class=\"dataframe\">\n",
       "  <thead>\n",
       "    <tr style=\"text-align: right;\">\n",
       "      <th></th>\n",
       "      <th>Product</th>\n",
       "      <th>Category</th>\n",
       "      <th>Price</th>\n",
       "    </tr>\n",
       "  </thead>\n",
       "  <tbody>\n",
       "    <tr>\n",
       "      <th>0</th>\n",
       "      <td>keyboard</td>\n",
       "      <td>Device</td>\n",
       "      <td>12000</td>\n",
       "    </tr>\n",
       "    <tr>\n",
       "      <th>1</th>\n",
       "      <td>Bear_TOY</td>\n",
       "      <td>TOY</td>\n",
       "      <td>900</td>\n",
       "    </tr>\n",
       "    <tr>\n",
       "      <th>2</th>\n",
       "      <td>Iphone 12</td>\n",
       "      <td>Device</td>\n",
       "      <td>30000</td>\n",
       "    </tr>\n",
       "  </tbody>\n",
       "</table>\n",
       "</div>"
      ],
      "text/plain": [
       "     Product Category  Price\n",
       "0   keyboard   Device  12000\n",
       "1   Bear_TOY      TOY    900\n",
       "2  Iphone 12   Device  30000"
      ]
     },
     "execution_count": 10,
     "metadata": {},
     "output_type": "execute_result"
    }
   ],
   "source": [
    "# ใส่ cols ให้กับ DataFrame แบบ หลายมิติ\n",
    "new_df_cols = [\"Product\" , \"Category\" , \"Price\"]\n",
    "new_df = pd.DataFrame(data , columns=new_df_cols)\n",
    "new_df"
   ]
  },
  {
   "cell_type": "code",
   "execution_count": null,
   "id": "91b6f565",
   "metadata": {},
   "outputs": [
    {
     "data": {
      "text/html": [
       "<div>\n",
       "<style scoped>\n",
       "    .dataframe tbody tr th:only-of-type {\n",
       "        vertical-align: middle;\n",
       "    }\n",
       "\n",
       "    .dataframe tbody tr th {\n",
       "        vertical-align: top;\n",
       "    }\n",
       "\n",
       "    .dataframe thead th {\n",
       "        text-align: right;\n",
       "    }\n",
       "</style>\n",
       "<table border=\"1\" class=\"dataframe\">\n",
       "  <thead>\n",
       "    <tr style=\"text-align: right;\">\n",
       "      <th></th>\n",
       "      <th>Product</th>\n",
       "      <th>Category</th>\n",
       "      <th>Price</th>\n",
       "    </tr>\n",
       "  </thead>\n",
       "  <tbody>\n",
       "    <tr>\n",
       "      <th>0</th>\n",
       "      <td>keyboard</td>\n",
       "      <td>Bear_TOY</td>\n",
       "      <td>Iphone 12</td>\n",
       "    </tr>\n",
       "    <tr>\n",
       "      <th>1</th>\n",
       "      <td>Device</td>\n",
       "      <td>TOY</td>\n",
       "      <td>Device</td>\n",
       "    </tr>\n",
       "    <tr>\n",
       "      <th>2</th>\n",
       "      <td>12000</td>\n",
       "      <td>900</td>\n",
       "      <td>30000</td>\n",
       "    </tr>\n",
       "  </tbody>\n",
       "</table>\n",
       "</div>"
      ],
      "text/plain": [
       "    Product  Category      Price\n",
       "0  keyboard  Bear_TOY  Iphone 12\n",
       "1    Device       TOY     Device\n",
       "2     12000       900      30000"
      ]
     },
     "execution_count": 12,
     "metadata": {},
     "output_type": "execute_result"
    }
   ],
   "source": [
    "# สร้าง DataFrame จาก List หลายตัวด้วย ZIP\n",
    "product1 = [\"keyboard\" , \"Device\" , 12000]\n",
    "product2 = [\"Bear_TOY\" , \"TOY\" , 900]\n",
    "product3 = [\"Iphone 12\" , \"Device\" , 30000]\n",
    "\n",
    "# ใช้ในการรวม list หลายๆอันเข้าด้วยกัน\n",
    "datas = list(zip(product1 , product2 , product3))\n",
    "df = pd.DataFrame(datas , columns=new_df_cols)\n",
    "df\n",
    "# ถ้าเขียนแบบนี้มันจะได้ ( ซึ่งมันจะเอา list เรียงแถวตรงลงไป ทำให้ไม่ถูก )\n",
    "# Product\tCategory\tPrice\n",
    "# keyboard\tBear_TOY\tIphone 12\n",
    "# Device\tTOY\t        Device\n",
    "# 12000\t    900\t        30000"
   ]
  },
  {
   "cell_type": "code",
   "execution_count": null,
   "id": "03b0520f",
   "metadata": {},
   "outputs": [
    {
     "data": {
      "text/html": [
       "<div>\n",
       "<style scoped>\n",
       "    .dataframe tbody tr th:only-of-type {\n",
       "        vertical-align: middle;\n",
       "    }\n",
       "\n",
       "    .dataframe tbody tr th {\n",
       "        vertical-align: top;\n",
       "    }\n",
       "\n",
       "    .dataframe thead th {\n",
       "        text-align: right;\n",
       "    }\n",
       "</style>\n",
       "<table border=\"1\" class=\"dataframe\">\n",
       "  <thead>\n",
       "    <tr style=\"text-align: right;\">\n",
       "      <th></th>\n",
       "      <th>Product</th>\n",
       "      <th>Category</th>\n",
       "      <th>Price</th>\n",
       "    </tr>\n",
       "  </thead>\n",
       "  <tbody>\n",
       "    <tr>\n",
       "      <th>0</th>\n",
       "      <td>keyboard</td>\n",
       "      <td>Device</td>\n",
       "      <td>12000</td>\n",
       "    </tr>\n",
       "    <tr>\n",
       "      <th>1</th>\n",
       "      <td>Bear_TOY</td>\n",
       "      <td>TOY</td>\n",
       "      <td>900</td>\n",
       "    </tr>\n",
       "    <tr>\n",
       "      <th>2</th>\n",
       "      <td>Iphone 12</td>\n",
       "      <td>Device</td>\n",
       "      <td>30000</td>\n",
       "    </tr>\n",
       "  </tbody>\n",
       "</table>\n",
       "</div>"
      ],
      "text/plain": [
       "     Product Category  Price\n",
       "0   keyboard   Device  12000\n",
       "1   Bear_TOY      TOY    900\n",
       "2  Iphone 12   Device  30000"
      ]
     },
     "execution_count": 15,
     "metadata": {},
     "output_type": "execute_result"
    }
   ],
   "source": [
    "# ลักษณะข้อมูลต้องแบบนี้ เมื่อใช้ ZIP\n",
    "product = [\"keyboard\" , \"Bear_TOY\" , \"Iphone 12\"]\n",
    "category = [ \"Device\" , \"TOY\" ,\"Device\" ]\n",
    "price = [ 12000, 900, 30000]\n",
    "datas = list(zip(product ,category , price))\n",
    "df = pd.DataFrame(datas , columns=new_df_cols)\n",
    "df"
   ]
  },
  {
   "cell_type": "code",
   "execution_count": 32,
   "id": "0337d549",
   "metadata": {},
   "outputs": [],
   "source": [
    "# สร้าง DataFrame แบบ Dict\n",
    "product = [\n",
    "    {\"Name\":\"keyboard\" ,\"category\":\"Device\" , \"price\":100},\n",
    "    {\"Name\":\"Art_Toy\" ,\"category\":\"Toy\" , \"price\":200},\n",
    "    {\"Name\":\"Iphone 12\" ,\"category\":\"Device\" , \"price\":300},\n",
    "    {\"Name\":\"Art_Toy\" ,\"category\":\"Toy\" , \"price\":200},\n",
    "]\n",
    "# key จะเป็นตัวหัวตารางเป็น columns\n",
    "# Values จะเป็น แถว\n",
    "# จะได้หน้าตาแบบนี้\n",
    "#   Name\t    category\tprice\n",
    "# 0 keyboard\tDevice\t    100\n",
    "# 1 Art_Toy\t    Toy\t        200\n",
    "# 2 Iphone 12\tDevice\t    300\n",
    "df = pd.DataFrame(product)"
   ]
  },
  {
   "cell_type": "code",
   "execution_count": 33,
   "id": "914648c5",
   "metadata": {},
   "outputs": [
    {
     "data": {
      "text/html": [
       "<div>\n",
       "<style scoped>\n",
       "    .dataframe tbody tr th:only-of-type {\n",
       "        vertical-align: middle;\n",
       "    }\n",
       "\n",
       "    .dataframe tbody tr th {\n",
       "        vertical-align: top;\n",
       "    }\n",
       "\n",
       "    .dataframe thead th {\n",
       "        text-align: right;\n",
       "    }\n",
       "</style>\n",
       "<table border=\"1\" class=\"dataframe\">\n",
       "  <thead>\n",
       "    <tr style=\"text-align: right;\">\n",
       "      <th></th>\n",
       "      <th>category</th>\n",
       "      <th>price</th>\n",
       "    </tr>\n",
       "    <tr>\n",
       "      <th>Name</th>\n",
       "      <th></th>\n",
       "      <th></th>\n",
       "    </tr>\n",
       "  </thead>\n",
       "  <tbody>\n",
       "    <tr>\n",
       "      <th>keyboard</th>\n",
       "      <td>Device</td>\n",
       "      <td>100</td>\n",
       "    </tr>\n",
       "    <tr>\n",
       "      <th>Art_Toy</th>\n",
       "      <td>Toy</td>\n",
       "      <td>200</td>\n",
       "    </tr>\n",
       "    <tr>\n",
       "      <th>Iphone 12</th>\n",
       "      <td>Device</td>\n",
       "      <td>300</td>\n",
       "    </tr>\n",
       "    <tr>\n",
       "      <th>Art_Toy</th>\n",
       "      <td>Toy</td>\n",
       "      <td>200</td>\n",
       "    </tr>\n",
       "  </tbody>\n",
       "</table>\n",
       "</div>"
      ],
      "text/plain": [
       "          category  price\n",
       "Name                     \n",
       "keyboard    Device    100\n",
       "Art_Toy        Toy    200\n",
       "Iphone 12   Device    300\n",
       "Art_Toy        Toy    200"
      ]
     },
     "execution_count": 33,
     "metadata": {},
     "output_type": "execute_result"
    }
   ],
   "source": [
    "# set Column Name ให้กลายเป็น Index ไปเลยแต่ถ้า เขียน df ก็จะยังมี index ติดอยู่วิธีแก้\n",
    "df.set_index([\"Name\"])\n",
    "\n",
    "# วิธีแก้ index ที่ยังอยู่ใน df ให้ inplace=True ทับ dataFrame ตัวเดิม\n",
    "df.set_index([\"Name\"] , inplace=True)\n",
    "df"
   ]
  },
  {
   "cell_type": "code",
   "execution_count": null,
   "id": "1794d8a0",
   "metadata": {},
   "outputs": [],
   "source": [
    "# สร้าง Series ใน Data Frame\n",
    "name = [\"keyboard\" , \"mouse\" , \"Bear\"]\n",
    "category = [\"Device\" , \"Device\" , \"Toy\"]\n",
    "price = [500,300,400]\n",
    "\n",
    "# แปลง list -> Series\n",
    "name_series = pd.Series(name)\n",
    "category_series = pd.Series(category)\n",
    "price_series = pd.Series(price)"
   ]
  },
  {
   "cell_type": "code",
   "execution_count": null,
   "id": "8fcccb50",
   "metadata": {},
   "outputs": [],
   "source": [
    "# สร้าง Drict map หัวตาราง กับ ตัวข้อมูล\n",
    "frame = {\"ชื่อสินค้า\":name_series , \"หมวดหมู่\":category_series , \"ราคา\":price_series}"
   ]
  },
  {
   "cell_type": "code",
   "execution_count": 43,
   "id": "089d569e",
   "metadata": {},
   "outputs": [
    {
     "data": {
      "text/html": [
       "<div>\n",
       "<style scoped>\n",
       "    .dataframe tbody tr th:only-of-type {\n",
       "        vertical-align: middle;\n",
       "    }\n",
       "\n",
       "    .dataframe tbody tr th {\n",
       "        vertical-align: top;\n",
       "    }\n",
       "\n",
       "    .dataframe thead th {\n",
       "        text-align: right;\n",
       "    }\n",
       "</style>\n",
       "<table border=\"1\" class=\"dataframe\">\n",
       "  <thead>\n",
       "    <tr style=\"text-align: right;\">\n",
       "      <th></th>\n",
       "      <th>ชื่อสินค้า</th>\n",
       "      <th>หมวดหมู่</th>\n",
       "      <th>ราคา</th>\n",
       "    </tr>\n",
       "  </thead>\n",
       "  <tbody>\n",
       "    <tr>\n",
       "      <th>0</th>\n",
       "      <td>keyboard</td>\n",
       "      <td>Device</td>\n",
       "      <td>500</td>\n",
       "    </tr>\n",
       "    <tr>\n",
       "      <th>1</th>\n",
       "      <td>mouse</td>\n",
       "      <td>Device</td>\n",
       "      <td>300</td>\n",
       "    </tr>\n",
       "    <tr>\n",
       "      <th>2</th>\n",
       "      <td>Bear</td>\n",
       "      <td>Toy</td>\n",
       "      <td>400</td>\n",
       "    </tr>\n",
       "  </tbody>\n",
       "</table>\n",
       "</div>"
      ],
      "text/plain": [
       "  ชื่อสินค้า หมวดหมู่  ราคา\n",
       "0   keyboard   Device   500\n",
       "1      mouse   Device   300\n",
       "2       Bear      Toy   400"
      ]
     },
     "execution_count": 43,
     "metadata": {},
     "output_type": "execute_result"
    }
   ],
   "source": [
    "df = pd.DataFrame(frame)\n",
    "df"
   ]
  },
  {
   "cell_type": "code",
   "execution_count": null,
   "id": "3f1a483d",
   "metadata": {},
   "outputs": [],
   "source": [
    "# Export dataFrame ไป เป็นไฟล์ csv โดยมันจะ Export ไฟล์ไปยังไฟล์ที่ทำงานอยู่\n",
    "# header = True คือ เอา หัวตารางด้วย\n",
    "# index = False คือ ไม่เอาเลขหน้า\n",
    "df.to_csv(\"product.csv\" , header=True , index=False)"
   ]
  }
 ],
 "metadata": {
  "kernelspec": {
   "display_name": "Python 3",
   "language": "python",
   "name": "python3"
  },
  "language_info": {
   "codemirror_mode": {
    "name": "ipython",
    "version": 3
   },
   "file_extension": ".py",
   "mimetype": "text/x-python",
   "name": "python",
   "nbconvert_exporter": "python",
   "pygments_lexer": "ipython3",
   "version": "3.13.2"
  }
 },
 "nbformat": 4,
 "nbformat_minor": 5
}
