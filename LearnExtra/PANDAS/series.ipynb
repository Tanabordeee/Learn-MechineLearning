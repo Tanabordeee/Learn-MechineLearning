{
 "cells": [
  {
   "cell_type": "code",
   "execution_count": 4,
   "id": "1351550e",
   "metadata": {},
   "outputs": [
    {
     "data": {
      "text/plain": [
       "'\\nSeries\\nคือ ข้อมูล 1 คอลัมน์ ที่มีลำดับ (indexed)\\nคล้ายกับ array 1 มิติ หรือคอลัมน์เดียวใน Excel\\n\\nDataFrame\\nคือ ตาราง 2 มิติ (หลายแถว หลายคอลัมน์)\\nคล้าย Excel sheet หรือ SQL table\\nประกอบด้วยหลาย Series (แต่ละคอลัมน์เป็น Series)\\n'"
      ]
     },
     "execution_count": 4,
     "metadata": {},
     "output_type": "execute_result"
    }
   ],
   "source": [
    "import pandas as pd\n",
    "# สร้าง Series ใน python pandas\n",
    "ps = pd.Series([1 , 2 , 3 , 40])\n",
    "'''\n",
    "Series\n",
    "คือ ข้อมูล 1 คอลัมน์ ที่มีลำดับ (indexed)\n",
    "คล้ายกับ array 1 มิติ หรือคอลัมน์เดียวใน Excel\n",
    "\n",
    "DataFrame\n",
    "คือ ตาราง 2 มิติ (หลายแถว หลายคอลัมน์)\n",
    "คล้าย Excel sheet หรือ SQL table\n",
    "ประกอบด้วยหลาย Series (แต่ละคอลัมน์เป็น Series)\n",
    "'''"
   ]
  },
  {
   "cell_type": "code",
   "execution_count": null,
   "id": "4a54d885",
   "metadata": {},
   "outputs": [
    {
     "data": {
      "text/plain": [
       "0    1\n",
       "1    2\n",
       "dtype: int64"
      ]
     },
     "execution_count": 6,
     "metadata": {},
     "output_type": "execute_result"
    }
   ],
   "source": [
    "# เข้าถึง series ตั้งแต่ 0 จนถึงก่อน 2\n",
    "ps[:2]"
   ]
  }
 ],
 "metadata": {
  "kernelspec": {
   "display_name": "Python 3",
   "language": "python",
   "name": "python3"
  },
  "language_info": {
   "codemirror_mode": {
    "name": "ipython",
    "version": 3
   },
   "file_extension": ".py",
   "mimetype": "text/x-python",
   "name": "python",
   "nbconvert_exporter": "python",
   "pygments_lexer": "ipython3",
   "version": "3.13.2"
  }
 },
 "nbformat": 4,
 "nbformat_minor": 5
}
